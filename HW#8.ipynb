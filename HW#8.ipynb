{
 "cells": [
  {
   "cell_type": "code",
   "execution_count": 1,
   "metadata": {
    "collapsed": false
   },
   "outputs": [
    {
     "name": "stdout",
     "output_type": "stream",
     "text": [
      "executed\n"
     ]
    }
   ],
   "source": [
    "# HW #8\n",
    "Data=open('batting.csv','r').readlines()                           #reads lines from file to DataFile\n",
    "del Data[0]                                                        #Deletes the first line with headings\n",
    "orgData=[]                                                         #initialize empty list orgData\n",
    "for line in Data:                                                  #loops over data\n",
    "    SplitLine=line.split(',')                                      #Splits a line of data into a list\n",
    "    del SplitLine[-1]                                              # deletes new line character from the line\n",
    "    orgData.append(SplitLine)                                      #appends to an organized list called orgData\n",
    "playeryear2rbis={}                                                 #initialize accumulator dictionary                                      \n",
    "for player in orgData:                                             #loop over players in orgData\n",
    "    if player[12].strip() !='':                                    #to check that rbi field is not blank\n",
    "            playeryear2rbis[player[0],player[1]]=int(player[12])   #add current playerid and rbi\n",
    "Data=open('salaries.csv','r').readlines()                          #reads lines from file to DataFile\n",
    "del Data[0]                                                        #Deletes the first line with headings\n",
    "orgData=[]                                                         #initialize empty list orgData\n",
    "for line in Data:                                                  #loops over data\n",
    "    SplitLine=line.split(',')                                      #Splits a line of data into a list\n",
    "    orgData.append(SplitLine)                                      #appends to an organized list called orgData\n",
    "playeryear2salary={}                                               #initialize accumulator dictionary                                      \n",
    "for player in orgData:                                             #loop over players in orgData\n",
    "    player[4]=player[4].rstrip()                                   #removes \\n from salary\n",
    "    if player[4].strip() !='':                                     #to check that salary field is not blank\n",
    "        playeryear2salary[player[3],player[0]]=int(player[4])      #add current playerid and rbis        \n",
    "rbis=[]                                                            #initialize empty dictionary\n",
    "salaries=[]                                                        #initialize empty dictionary\n",
    "for key in playeryear2salary:                                      #loop over keys in playeryear2salary disctionary\n",
    "    if key in playeryear2rbis:                                     #check if key is in playeryear2rbis\n",
    "        rbis.append(playeryear2rbis[key])                          #append rbi data to rbi list for plot\n",
    "        salaries.append(playeryear2salary[key])                    #append salary data to salary list for plot\n",
    "import matplotlib.pyplot as plt                                    #Import library for plot() \n",
    "plt.plot(salaries,rbis,'k.')                                       #plot with salaries on x, rbis on y and string as k.\n",
    "plt.ylabel('RBIs')                                                 #label y axis\n",
    "plt.xlabel('Salary')                                               #label y axis\n",
    "plt.title('Salary vs. RBIs in MLB')                                #label title\n",
    "#plt.show()                                                         #show chart\n",
    "print('executed')         "
   ]
  },
  {
   "cell_type": "code",
   "execution_count": 2,
   "metadata": {
    "collapsed": false
   },
   "outputs": [
    {
     "ename": "KeyError",
     "evalue": "('arundha01', '1882')",
     "output_type": "error",
     "traceback": [
      "\u001b[0;31m---------------------------------------------------------------------------\u001b[0m",
      "\u001b[0;31mKeyError\u001b[0m                                  Traceback (most recent call last)",
      "\u001b[0;32m<ipython-input-2-cfdd0ef04f83>\u001b[0m in \u001b[0;36m<module>\u001b[0;34m()\u001b[0m\n\u001b[1;32m     23\u001b[0m             \u001b[0mplayeryear2rbis\u001b[0m\u001b[0;34m[\u001b[0m\u001b[0mplayer\u001b[0m\u001b[0;34m[\u001b[0m\u001b[0;36m0\u001b[0m\u001b[0;34m]\u001b[0m\u001b[0;34m,\u001b[0m\u001b[0mplayer\u001b[0m\u001b[0;34m[\u001b[0m\u001b[0;36m1\u001b[0m\u001b[0;34m]\u001b[0m\u001b[0;34m]\u001b[0m\u001b[0;34m=\u001b[0m\u001b[0mint\u001b[0m\u001b[0;34m(\u001b[0m\u001b[0mplayer\u001b[0m\u001b[0;34m[\u001b[0m\u001b[0;36m12\u001b[0m\u001b[0;34m]\u001b[0m\u001b[0;34m)\u001b[0m                \u001b[0;31m#add current playerid and rbis\u001b[0m\u001b[0;34m\u001b[0m\u001b[0m\n\u001b[1;32m     24\u001b[0m     \u001b[0;32melse\u001b[0m\u001b[0;34m:\u001b[0m                                                 \u001b[0;31m#else\u001b[0m\u001b[0;34m\u001b[0m\u001b[0m\n\u001b[0;32m---> 25\u001b[0;31m             \u001b[0mplayeryear2rbis\u001b[0m\u001b[0;34m[\u001b[0m\u001b[0mplayer\u001b[0m\u001b[0;34m[\u001b[0m\u001b[0;36m0\u001b[0m\u001b[0;34m]\u001b[0m\u001b[0;34m,\u001b[0m\u001b[0mplayer\u001b[0m\u001b[0;34m[\u001b[0m\u001b[0;36m1\u001b[0m\u001b[0;34m]\u001b[0m\u001b[0;34m]\u001b[0m\u001b[0;34m+=\u001b[0m\u001b[0mint\u001b[0m\u001b[0;34m(\u001b[0m\u001b[0mplayer\u001b[0m\u001b[0;34m[\u001b[0m\u001b[0;36m12\u001b[0m\u001b[0;34m]\u001b[0m\u001b[0;34m)\u001b[0m  \u001b[0;31m#add rbis from current year to previous rbis data\u001b[0m\u001b[0;34m\u001b[0m\u001b[0m\n\u001b[0m\u001b[1;32m     26\u001b[0m \u001b[0mprint\u001b[0m\u001b[0;34m(\u001b[0m\u001b[0mplayeryear2rbis\u001b[0m\u001b[0;34m[\u001b[0m\u001b[0;34m'zoldasa01'\u001b[0m\u001b[0;34m,\u001b[0m\u001b[0;34m'1948'\u001b[0m\u001b[0;34m]\u001b[0m\u001b[0;34m)\u001b[0m\u001b[0;34m\u001b[0m\u001b[0m\n\u001b[1;32m     27\u001b[0m \u001b[0mData\u001b[0m\u001b[0;34m=\u001b[0m\u001b[0mopen\u001b[0m\u001b[0;34m(\u001b[0m\u001b[0;34m'salaries.csv'\u001b[0m\u001b[0;34m,\u001b[0m\u001b[0;34m'r'\u001b[0m\u001b[0;34m)\u001b[0m\u001b[0;34m.\u001b[0m\u001b[0mreadlines\u001b[0m\u001b[0;34m(\u001b[0m\u001b[0;34m)\u001b[0m                          \u001b[0;31m#reads lines from file to DataFile\u001b[0m\u001b[0;34m\u001b[0m\u001b[0m\n",
      "\u001b[0;31mKeyError\u001b[0m: ('arundha01', '1882')"
     ]
    }
   ],
   "source": [
    "#HW 8\n",
    "#Yash Jhavar\n",
    "#jhavar2\n",
    "#Oct 24, 2016\n",
    "Data=open('batting.csv','r').readlines()                           #reads lines from file to DataFile\n",
    "del Data[0]                                                        #Deletes the first line with headings\n",
    "orgData=[]                                                         #initialize empty list orgData\n",
    "for line in Data:                                                  #loops over data\n",
    "    SplitLine=line.split(',')                                      #Splits a line of data into a list\n",
    "    del SplitLine[-1]                                              # deletes new line character from the line\n",
    "    orgData.append(SplitLine)                                      #appends to an organized list called orgData\n",
    "playeryear2rbis={}                                                 #initialize accumulator dictionary                                      \n",
    "for player in orgData:                                             #loop over players in orgData\n",
    "    #player=('zoldasa01', '1948') \n",
    "\n",
    "    \n",
    "    \n",
    "    \n",
    "    \n",
    "    if player[12].strip() !='':                                    #to check that rbi field is not blank\n",
    "        tupkey=(player[3],player[0])\n",
    "        if tupkey not in playeryear2rbis:               #if current playerid is not a key in dict\n",
    "            playeryear2rbis[player[0],player[1]]=int(player[12])                #add current playerid and rbis\n",
    "    else:                                                 #else\n",
    "            playeryear2rbis[player[0],player[1]]+=int(player[12])  #add rbis from current year to previous rbis data \n",
    "print(playeryear2rbis['zoldasa01','1948'])\n",
    "Data=open('salaries.csv','r').readlines()                          #reads lines from file to DataFile\n",
    "del Data[0]                                                        #Deletes the first line with headings\n",
    "orgData=[]                                                         #initialize empty list orgData\n",
    "for line in Data:                                                  #loops over data\n",
    "    SplitLine=line.split(',')                                      #Splits a line of data into a list\n",
    "    orgData.append(SplitLine)                                      #appends to an organized list called orgData\n",
    "playeryear2salary={}                                               #initialize accumulator dictionary                                      \n",
    "for player in orgData:                                             #loop over players in orgData\n",
    "    player[4]=player[4].rstrip()                                   #removes \\n from salary\n",
    "    if player[4].strip() !='':                                     #to check that salary field is not blank\n",
    "        tupkey=(player[3],player[0])\n",
    "        if tupkey not in playeryear2salary.keys():               #if current playerid is not a key in dict\n",
    "            playeryear2salary[player[3],player[0]]=int(player[4])                #add current playerid and rbis\n",
    "        else:                                                 #else\n",
    "            playeryear2salary[player[3],player[0]]+=int(player[4])  #add rbis from current year to previous rbis data \n",
    "                     #add current playerid and rbis        \n",
    "rbis=[]                                                            #initialize empty dictionary\n",
    "salaries=[]                                                        #initialize empty dictionary\n",
    "for key in playeryear2salary:                                      #loop over keys in playeryear2salary disctionary\n",
    "    if key in playeryear2rbis:                                     #check if key is in playeryear2rbis\n",
    "        rbis.append(playeryear2rbis[key])                          #append rbi data to rbi list for plot\n",
    "        salaries.append(playeryear2salary[key])                    #append salary data to salary list for plot\n",
    "import matplotlib.pyplot as plt                                    #Import library for plot() \n",
    "plt.plot(salaries,rbis,'k.')                                       #plot with salaries on x, rbis on y and string as k.\n",
    "plt.ylabel('RBIs')                                                 #label y axis\n",
    "plt.xlabel('Salary')                                               #label y axis\n",
    "plt.title('Salary vs. RBIs in MLB')                                #label title\n",
    "#plt.show()                                                         #show chart"
   ]
  },
  {
   "cell_type": "code",
   "execution_count": 10,
   "metadata": {
    "collapsed": false
   },
   "outputs": [
    {
     "name": "stdout",
     "output_type": "stream",
     "text": [
      "2\n",
      "2150000\n",
      "executed\n"
     ]
    }
   ],
   "source": [
    "# HW #8\n",
    "Data=open('batting.csv','r').readlines()                           #reads lines from file to DataFile\n",
    "del Data[0]                                                        #Deletes the first line with headings\n",
    "orgData=[]                                                         #initialize empty list orgData\n",
    "for line in Data:                                                  #loops over data\n",
    "    SplitLine=line.split(',')                                      #Splits a line of data into a list\n",
    "    del SplitLine[-1]                                              # deletes new line character from the line\n",
    "    orgData.append(SplitLine)                                      #appends to an organized list called orgData\n",
    "playeryear2rbis={}                                                 #initialize accumulator dictionary                                      \n",
    "for player in orgData:                                             #loop over players in orgData\n",
    "    if player[12].strip() !='':                                    #to check that rbi field is not blank\n",
    "        if (player[0],player[1]) not in playeryear2rbis:\n",
    "            playeryear2rbis[player[0],player[1]]=int(player[12])       #add current playerid and rbi\n",
    "        else:\n",
    "            playeryear2rbis[player[0],player[1]]+=int(player[12]) \n",
    "Data=open('salaries.csv','r').readlines()                          #reads lines from file to DataFile\n",
    "del Data[0]                                                        #Deletes the first line with headings\n",
    "orgData=[]                                                         #initialize empty list orgData\n",
    "for line in Data:                                                  #loops over data\n",
    "    SplitLine=line.split(',')                                      #Splits a line of data into a list\n",
    "    orgData.append(SplitLine)                                      #appends to an organized list called orgData\n",
    "playeryear2salary={}                                               #initialize accumulator dictionary                                      \n",
    "for player in orgData:                                             #loop over players in orgData\n",
    "    player[4]=player[4].rstrip()                                   #removes \\n from salary\n",
    "    if player[4].strip() !='':                                     #to check that salary field is not blank\n",
    "        if (player[3],player[0]) not in playeryear2salary:\n",
    "            playeryear2salary[player[3],player[0]]=int(player[4])  #add current playerid and rbis        \n",
    "        else:\n",
    "            playeryear2salary[player[3],player[0]]+=int(player[4])\n",
    "rbis=[]                                                            #initialize empty dictionary\n",
    "salaries=[]                                                        #initialize empty dictionary\n",
    "for key in playeryear2salary:                                      #loop over keys in playeryear2salary disctionary\n",
    "    if key in playeryear2rbis:                                     #check if key is in playeryear2rbis\n",
    "        rbis.append(playeryear2rbis[key])                          #append rbi data to rbi list for plot\n",
    "        salaries.append(playeryear2salary[key])                    #append salary data to salary list for plot\n",
    "import matplotlib.pyplot as plt                                    #Import library for plot() \n",
    "plt.plot(salaries,rbis,'k.')                                       #plot with salaries on x, rbis on y and string as k.\n",
    "plt.ylabel('RBIs')                                                 #label y axis\n",
    "plt.xlabel('Salary')                                               #label y axis\n",
    "plt.title('Salary vs. RBIs in MLB')                                #label title\n",
    "#plt.show()                                                         #show chart\n",
    "#print('executed')         "
   ]
  }
 ],
 "metadata": {
  "kernelspec": {
   "display_name": "Python [Root]",
   "language": "python",
   "name": "Python [Root]"
  },
  "language_info": {
   "codemirror_mode": {
    "name": "ipython",
    "version": 3
   },
   "file_extension": ".py",
   "mimetype": "text/x-python",
   "name": "python",
   "nbconvert_exporter": "python",
   "pygments_lexer": "ipython3",
   "version": "3.5.2"
  }
 },
 "nbformat": 4,
 "nbformat_minor": 0
}
